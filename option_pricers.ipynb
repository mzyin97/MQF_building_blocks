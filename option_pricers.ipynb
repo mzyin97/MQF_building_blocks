{
 "cells": [
  {
   "cell_type": "code",
   "execution_count": 1,
   "metadata": {},
   "outputs": [],
   "source": [
    "import pandas as pd\n",
    "import numpy as np\n",
    "from scipy.stats import norm\n",
    "import matplotlib.pyplot as plt\n",
    "import matplotlib as mpl"
   ]
  },
  {
   "cell_type": "markdown",
   "metadata": {},
   "source": [
    "# Part 1"
   ]
  },
  {
   "cell_type": "markdown",
   "metadata": {},
   "source": [
    "## Vanilla Call / Put"
   ]
  },
  {
   "cell_type": "markdown",
   "metadata": {},
   "source": [
    "### Black-Scholes Model"
   ]
  },
  {
   "cell_type": "code",
   "execution_count": 2,
   "metadata": {},
   "outputs": [],
   "source": [
    "def BS_vanillacall(r, T, S0, K, sigma):\n",
    "    \n",
    "    '''Vanilla European call option pricing formula based on Black-Scholes Model'''\n",
    "    \n",
    "    d1 = (np.log(S0/K) + (r + (sigma**2)*0.5)*T) / (sigma*np.sqrt(T))\n",
    "    d2 = d1 - sigma*np.sqrt(T)\n",
    "    \n",
    "    price = S0 * norm.cdf(d1) - K * np.exp(-r*T) * norm.cdf(d2)\n",
    "    \n",
    "    return price"
   ]
  },
  {
   "cell_type": "code",
   "execution_count": 3,
   "metadata": {},
   "outputs": [],
   "source": [
    "def BS_vanillaput(r, T, S0, K, sigma):\n",
    "    \n",
    "    '''Vanilla European put option pricing formula based on Black-Scholes Model'''\n",
    "    \n",
    "    d1 = (np.log(K/S0) - (r - (sigma**2)*0.5)*T) / (sigma*np.sqrt(T))\n",
    "    d2 = d1 - sigma*np.sqrt(T)\n",
    "    \n",
    "    price = -S0 * norm.cdf(d2) + K * np.exp(-r*T) * norm.cdf(d1)\n",
    "    \n",
    "    return price"
   ]
  },
  {
   "cell_type": "markdown",
   "metadata": {},
   "source": [
    "### Bachelier Model"
   ]
  },
  {
   "cell_type": "code",
   "execution_count": 4,
   "metadata": {},
   "outputs": [],
   "source": [
    "def Bachelier_vanillacall(r, T, S0, K, sigma):\n",
    "    \n",
    "    '''Vanilla European call option pricing formula based on Bachelier Model'''\n",
    "    \n",
    "    d1 = (S0 - K) / (sigma * np.sqrt(T))\n",
    "    \n",
    "    price = np.exp(-r * T) * \\\n",
    "                ( (S0 - K) * norm.cdf(d1) + \\\n",
    "                    sigma * np.sqrt(T) * norm.pdf(d1)\n",
    "                )\n",
    "    return price"
   ]
  },
  {
   "cell_type": "code",
   "execution_count": 5,
   "metadata": {},
   "outputs": [],
   "source": [
    "def Bachelier_vanillaput(r, T, S0, K, sigma):\n",
    "    \n",
    "    '''Vanilla European put option pricing formula based on Bachelier Model'''\n",
    "    \n",
    "    d1 = (K - S0) / (sigma * np.sqrt(T))\n",
    "    \n",
    "    price = np.exp(-r * T) * \\\n",
    "                ( (K - S0) * norm.cdf(d1) + \\\n",
    "                    sigma * np.sqrt(T) * norm.pdf(d1)\n",
    "                )\n",
    "    return price"
   ]
  },
  {
   "cell_type": "markdown",
   "metadata": {},
   "source": [
    "### Black76 Model"
   ]
  },
  {
   "cell_type": "code",
   "execution_count": 6,
   "metadata": {},
   "outputs": [],
   "source": [
    "def Black_vanillacall(F0, K, r, sigma, T):\n",
    "    \n",
    "    '''Vanilla European call option using Black76 Model'''\n",
    "    \n",
    "    d1 = (np.log(F0/K) + 0.5 * (sigma**2) * T) / (sigma * np.sqrt(T))\n",
    "    d2 = d1 - sigma * np.sqrt(T)\n",
    "    \n",
    "    price = np.exp(-r * T) * \\\n",
    "            (F0 * norm.cdf(d1) - \\\n",
    "            K * norm.cdf(d2)\n",
    "            )\n",
    "    return price\n",
    "\n",
    "def Black_vanillaput(F0, K, r, sigma, T):\n",
    "    \n",
    "    '''Vanilla European put option using Black76 Model'''\n",
    "    \n",
    "    d1 = (np.log(K/F0) + 0.5 * (sigma**2) * T) / (sigma * np.sqrt(T))\n",
    "    d2 = d1 - sigma * np.sqrt(T)\n",
    "    \n",
    "    price = np.exp(-r * T) * \\\n",
    "            (K * norm.cdf(d1) - \\\n",
    "            F0 * norm.cdf(d2)\n",
    "            )\n",
    "    return price"
   ]
  },
  {
   "cell_type": "markdown",
   "metadata": {},
   "source": [
    "### Displaced-Diffusion Model"
   ]
  },
  {
   "cell_type": "code",
   "execution_count": 7,
   "metadata": {},
   "outputs": [],
   "source": [
    "def DD_vanillacall(F0, K, r, sigma, T, beta):\n",
    "    \n",
    "    '''Vanilla European call option using displaced-diffusion model'''\n",
    "    \n",
    "    return Black_vanillacall(F0/beta, \n",
    "                            K + ( (1-beta)/beta )*F0, \n",
    "                            r, \n",
    "                            beta * sigma, \n",
    "                            T)"
   ]
  },
  {
   "cell_type": "code",
   "execution_count": 8,
   "metadata": {},
   "outputs": [],
   "source": [
    "def DD_vanillaput(F0, K, r, sigma, T, beta):\n",
    "    \n",
    "    '''Vanilla European put option using displaced-diffusion model'''\n",
    "    \n",
    "    return Black_vanillaput(F0/beta, \n",
    "                            K + ( (1-beta)/beta )*F0, \n",
    "                            r, \n",
    "                            beta * sigma, \n",
    "                            T)"
   ]
  },
  {
   "cell_type": "markdown",
   "metadata": {},
   "source": [
    "## Digital cash-or-nothing call/put"
   ]
  },
  {
   "cell_type": "markdown",
   "metadata": {},
   "source": [
    "### Black-Scholes Model"
   ]
  },
  {
   "cell_type": "code",
   "execution_count": 9,
   "metadata": {},
   "outputs": [],
   "source": [
    "def BS_CONcall(r, T, S0, K, sigma):\n",
    "    \n",
    "    '''digital cash-or-nothing call option under black-scholes model'''\n",
    "    \n",
    "    d1 = (np.log(S0/K) + (r - 0.5*(sigma**2))*T) / (sigma*np.sqrt(T))\n",
    "    #this d1 here is the d2 of vanilla black scholes call\n",
    "    price = np.exp(-r * T) * \\\n",
    "            norm.cdf(d1)\n",
    "    \n",
    "    return price"
   ]
  },
  {
   "cell_type": "code",
   "execution_count": 10,
   "metadata": {},
   "outputs": [],
   "source": [
    "def BS_CONput(r, T, S0, K, sigma):\n",
    "    \n",
    "    '''digital cash-or-nothing put option under black-scholes model'''\n",
    "    \n",
    "    d1 = (np.log(K/S0) - (r - 0.5*(sigma**2))*T) / (sigma*np.sqrt(T))\n",
    "    \n",
    "    price = np.exp(-r * T) * \\\n",
    "            norm.cdf(d1)\n",
    "    \n",
    "    return price"
   ]
  },
  {
   "cell_type": "markdown",
   "metadata": {},
   "source": [
    "### Bachelier Model"
   ]
  },
  {
   "cell_type": "code",
   "execution_count": 11,
   "metadata": {},
   "outputs": [],
   "source": [
    "def Bachelier_CONcall(r, T, S0, K, sigma):\n",
    "    \n",
    "    '''cash-or-nothing digital call option pricing formula based on Bachelier Model'''\n",
    "    \n",
    "    d1 = (K - S0) / (sigma * np.sqrt(T))\n",
    "    \n",
    "    price = np.exp(-r * T) * \\\n",
    "            norm.cdf(-d1)\n",
    "    \n",
    "    return price"
   ]
  },
  {
   "cell_type": "code",
   "execution_count": 12,
   "metadata": {},
   "outputs": [],
   "source": [
    "def Bachelier_CONput(r, T, S0, K, sigma):\n",
    "    \n",
    "    '''cash-or-nothing digital put option pricing formula based on Bachelier Model'''\n",
    "    \n",
    "    d1 = (K - S0) / (sigma * np.sqrt(T))\n",
    "    \n",
    "    price = np.exp(-r * T) * \\\n",
    "            norm.cdf(d1)\n",
    "    \n",
    "    return price"
   ]
  },
  {
   "cell_type": "markdown",
   "metadata": {},
   "source": [
    "### Black76 Model"
   ]
  },
  {
   "cell_type": "code",
   "execution_count": 13,
   "metadata": {},
   "outputs": [],
   "source": [
    "def Black_CONcall(F0, K, r, sigma, T):\n",
    "    \n",
    "    '''cash-or-nothing digital call option using Black76 Model'''\n",
    "    \n",
    "    d1 = (np.log(K/F0) + 0.5 * (sigma**2) * T) / (sigma * np.sqrt(T))\n",
    "    \n",
    "    price = np.exp(-r * T) * \\\n",
    "            norm.cdf(-d1)\n",
    "    \n",
    "    return price"
   ]
  },
  {
   "cell_type": "code",
   "execution_count": 14,
   "metadata": {},
   "outputs": [],
   "source": [
    "def Black_CONput(F0, K, r, sigma, T):\n",
    "    \n",
    "    '''cash-or-nothing digital put option using Black76 Model'''\n",
    "    \n",
    "    d1 = (np.log(K/F0) + 0.5 * (sigma**2) * T) / (sigma * np.sqrt(T))\n",
    "    \n",
    "    price = np.exp(-r * T) * \\\n",
    "            norm.cdf(d1)\n",
    "    \n",
    "    return price"
   ]
  },
  {
   "cell_type": "markdown",
   "metadata": {},
   "source": [
    "### Displaced-diffusion model"
   ]
  },
  {
   "cell_type": "code",
   "execution_count": 15,
   "metadata": {},
   "outputs": [],
   "source": [
    "def DD_CONcall(F0, K, r, sigma, T, beta):\n",
    "    \n",
    "    '''cash-or-nothing digital call option using displaced-diffusion model'''\n",
    "    \n",
    "    return Black_CONcall(F0/beta, \n",
    "                            K + ( (1-beta)/beta )*F0, \n",
    "                            r, \n",
    "                            beta * sigma, \n",
    "                            T)"
   ]
  },
  {
   "cell_type": "code",
   "execution_count": 16,
   "metadata": {},
   "outputs": [],
   "source": [
    "def DD_CONput(F0, K, r, sigma, T, beta):\n",
    "    \n",
    "    '''cash-or-nothing digital put option using displaced-diffusion model'''\n",
    "    \n",
    "    return Black_CONput(F0/beta, \n",
    "                            K + ( (1-beta)/beta )*F0, \n",
    "                            r, \n",
    "                            beta * sigma, \n",
    "                            T)"
   ]
  },
  {
   "cell_type": "markdown",
   "metadata": {},
   "source": [
    "## Digital asset-or-nothing call/put"
   ]
  },
  {
   "cell_type": "markdown",
   "metadata": {},
   "source": [
    "### Black-Scholes Model"
   ]
  },
  {
   "cell_type": "code",
   "execution_count": 17,
   "metadata": {},
   "outputs": [],
   "source": [
    "def BS_AONcall(r, T, S0, K, sigma):\n",
    "    \n",
    "    '''digital asset-or-nothing call option under black-scholes model'''\n",
    "    \n",
    "    d1 = (np.log(S0/K) + (r + 0.5*(sigma**2))*T) / (sigma*np.sqrt(T))\n",
    "    \n",
    "    price = S0 * norm.cdf(d1)\n",
    "    \n",
    "    return price"
   ]
  },
  {
   "cell_type": "code",
   "execution_count": 18,
   "metadata": {},
   "outputs": [],
   "source": [
    "def BS_AONput(r, T, S0, K, sigma):\n",
    "    \n",
    "    '''digital asset-or-nothing put option under black-scholes model'''\n",
    "    \n",
    "    d1 = (np.log(K/S0) - (r + 0.5*(sigma**2))*T) / (sigma*np.sqrt(T))\n",
    "    \n",
    "    price = S0 * norm.cdf(d1)\n",
    "    \n",
    "    return price"
   ]
  },
  {
   "cell_type": "markdown",
   "metadata": {},
   "source": [
    "### Bachelier Model"
   ]
  },
  {
   "cell_type": "code",
   "execution_count": 19,
   "metadata": {},
   "outputs": [],
   "source": [
    "def Bachelier_AONcall(S0, K, r, T, sigma):\n",
    "    \n",
    "    '''asset-or-nothing digital call under Bachelier model'''\n",
    "    \n",
    "    d1 = (K - S0) / (sigma*np.sqrt(T))\n",
    "    \n",
    "    price = np.exp(-r * T) * \\\n",
    "            (S0 * norm.cdf(-d1) + \\\n",
    "                sigma * np.sqrt(T) * norm.pdf(-d1)\n",
    "            )\n",
    "    \n",
    "    return price"
   ]
  },
  {
   "cell_type": "code",
   "execution_count": 20,
   "metadata": {},
   "outputs": [],
   "source": [
    "def Bachelier_AONput(S0, K, r, T, sigma):\n",
    "    \n",
    "    '''asset-or-nothing digital put under Bachelier model'''\n",
    "    \n",
    "    d1 = (K - S0) / (sigma*np.sqrt(T))\n",
    "    \n",
    "    price = np.exp(-r * T) * \\\n",
    "            (S0 * norm.cdf(d1) - \\\n",
    "                sigma * np.sqrt(T) * norm.pdf(d1)\n",
    "            )\n",
    "    \n",
    "    return price"
   ]
  },
  {
   "cell_type": "markdown",
   "metadata": {},
   "source": [
    "### Black76 Model"
   ]
  },
  {
   "cell_type": "code",
   "execution_count": 21,
   "metadata": {},
   "outputs": [],
   "source": [
    "def Black_AONcall(F0, K, r, sigma, T):\n",
    "    \n",
    "    '''asset-or-nothing digital call under Black76 Model'''\n",
    "    \n",
    "    d1 = (log(F0/K) + 0.5*(sigma**2)*T) / (sigma*np.sqrt(T))\n",
    "    \n",
    "    price = np.exp(-r * T) * \\\n",
    "            F0 * norm.cdf(d1)\n",
    "    \n",
    "    return price"
   ]
  },
  {
   "cell_type": "code",
   "execution_count": 22,
   "metadata": {},
   "outputs": [],
   "source": [
    "def Black_AONput(F0, K, r, sigma, T):\n",
    "    \n",
    "    '''asset-or-nothing digital put under Black76 Model'''\n",
    "    \n",
    "    d1 = (log(K/F0) - 0.5*(sigma**2)*T) / (sigma*np.sqrt(T))\n",
    "    \n",
    "    price = np.exp(-r * T) * \\\n",
    "            F0 * norm.cdf(d1)\n",
    "    \n",
    "    return price"
   ]
  },
  {
   "cell_type": "markdown",
   "metadata": {},
   "source": [
    "### Displaced-diffusion Model"
   ]
  },
  {
   "cell_type": "code",
   "execution_count": 23,
   "metadata": {},
   "outputs": [],
   "source": [
    "def DD_AONcall(F0, K, r, sigma, T, beta):\n",
    "    \n",
    "    '''asset-or-nothing digital call option using displaced-diffusion model'''\n",
    "    \n",
    "    return Black_AONcall(F0/beta, \n",
    "                            K + ( (1-beta)/beta )*F0, \n",
    "                            r, \n",
    "                            beta * sigma, \n",
    "                            T)"
   ]
  },
  {
   "cell_type": "code",
   "execution_count": 24,
   "metadata": {},
   "outputs": [],
   "source": [
    "def DD_AONput(F0, K, r, sigma, T, beta):\n",
    "    \n",
    "    '''asset-or-nothing digital put option using displaced-diffusion model'''\n",
    "    \n",
    "    return Black_AONput(F0/beta, \n",
    "                            K + ( (1-beta)/beta )*F0, \n",
    "                            r, \n",
    "                            beta * sigma, \n",
    "                            T)"
   ]
  }
 ],
 "metadata": {
  "kernelspec": {
   "display_name": "Python 3 (ipykernel)",
   "language": "python",
   "name": "python3"
  },
  "language_info": {
   "codemirror_mode": {
    "name": "ipython",
    "version": 3
   },
   "file_extension": ".py",
   "mimetype": "text/x-python",
   "name": "python",
   "nbconvert_exporter": "python",
   "pygments_lexer": "ipython3",
   "version": "3.9.12"
  }
 },
 "nbformat": 4,
 "nbformat_minor": 4
}
